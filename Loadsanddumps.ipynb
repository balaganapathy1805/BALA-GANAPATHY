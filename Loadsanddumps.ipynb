{
 "cells": [
  {
   "cell_type": "code",
   "execution_count": 3,
   "id": "fd6745cc",
   "metadata": {},
   "outputs": [],
   "source": [
    "f=open(\"F:/somu.txt\",\"w\")\n",
    "f.write(\"Wake up Early\\n\")\n",
    "f.write(\"Read Daily\\n\")\n",
    "f.write(\"Pray to God\\n\")\n",
    "f.close()"
   ]
  },
  {
   "cell_type": "code",
   "execution_count": 13,
   "id": "2a56bbe3",
   "metadata": {},
   "outputs": [
    {
     "name": "stdout",
     "output_type": "stream",
     "text": [
      "Wake up Early\n",
      "\n",
      "Read Daily\n",
      "\n",
      "Pray to God\n",
      "\n"
     ]
    }
   ],
   "source": [
    "a=open(\"F:\\somu.txt\",\"r\")\n",
    "print(a.readline())\n",
    "print(a.readline())\n",
    "print(a.readline())\n",
    "a.close()"
   ]
  },
  {
   "cell_type": "code",
   "execution_count": 26,
   "id": "b320c7fa",
   "metadata": {},
   "outputs": [],
   "source": [
    "b=open(\"F:\\somu.txt\",\"a\")\n",
    "b.write(\"Be Cool \\n\")\n",
    "b.write(\"Be Smart \\n\")\n",
    "b.close()\n",
    "\n"
   ]
  },
  {
   "cell_type": "code",
   "execution_count": 27,
   "id": "366cfb4b",
   "metadata": {},
   "outputs": [
    {
     "name": "stdout",
     "output_type": "stream",
     "text": [
      "Wake up Early\n",
      "Read Daily\n",
      "Pray to God\n",
      "Be Cool \n",
      "Be Smart \n",
      "Be Cool \n",
      "Be Smart \n",
      "Be Cool \n",
      "Be Smart \n",
      "Be Cool \n",
      "Be Smart \n",
      "Be Cool \n",
      "Be Smart \n",
      "Be Cool \n",
      "Be Smart \n",
      "\n"
     ]
    }
   ],
   "source": [
    "c=open(\"F:\\somu.txt\",\"r\")\n",
    "print(c.read())\n",
    "c.close()"
   ]
  },
  {
   "cell_type": "code",
   "execution_count": 28,
   "id": "169d0ea7",
   "metadata": {},
   "outputs": [
    {
     "name": "stdout",
     "output_type": "stream",
     "text": [
      "['Wake up Early\\n', 'Read Daily\\n', 'Pray to God\\n', 'Be Cool \\n', 'Be Smart \\n', 'Be Cool \\n', 'Be Smart \\n', 'Be Cool \\n', 'Be Smart \\n', 'Be Cool \\n', 'Be Smart \\n', 'Be Cool \\n', 'Be Smart \\n', 'Be Cool \\n', 'Be Smart \\n']\n"
     ]
    }
   ],
   "source": [
    "with open(\"F:\\somu.txt\",\"r\")as file:\n",
    "    lines=file.readlines()\n",
    "    print(lines)"
   ]
  },
  {
   "cell_type": "code",
   "execution_count": 29,
   "id": "83b0c8d6",
   "metadata": {},
   "outputs": [
    {
     "name": "stdout",
     "output_type": "stream",
     "text": [
      "London\n"
     ]
    }
   ],
   "source": [
    "import json\n",
    "x='{\"name\":\"sai\",\"age\":20,\"city\":\"London\"}'\n",
    "y=json.loads(x)\n",
    "print(y[\"city\"])"
   ]
  },
  {
   "cell_type": "code",
   "execution_count": 31,
   "id": "7e4e4be3",
   "metadata": {},
   "outputs": [
    {
     "name": "stdout",
     "output_type": "stream",
     "text": [
      "\"{\\\"name\\\":\\\"sai\\\",\\\"age\\\":20,\\\"city\\\":\\\"London\\\"}\"\n"
     ]
    }
   ],
   "source": [
    "import json\n",
    "x='{\"name\":\"sai\",\"age\":20,\"city\":\"London\"}'\n",
    "y=json.dumps(x)\n",
    "print(y)"
   ]
  },
  {
   "cell_type": "code",
   "execution_count": null,
   "id": "44880d62",
   "metadata": {},
   "outputs": [],
   "source": []
  }
 ],
 "metadata": {
  "kernelspec": {
   "display_name": "Python 3 (ipykernel)",
   "language": "python",
   "name": "python3"
  },
  "language_info": {
   "codemirror_mode": {
    "name": "ipython",
    "version": 3
   },
   "file_extension": ".py",
   "mimetype": "text/x-python",
   "name": "python",
   "nbconvert_exporter": "python",
   "pygments_lexer": "ipython3",
   "version": "3.11.3"
  }
 },
 "nbformat": 4,
 "nbformat_minor": 5
}
