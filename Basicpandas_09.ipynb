{
 "cells": [
  {
   "cell_type": "code",
   "execution_count": 1,
   "id": "91dcdae7-99d9-47f7-b217-6ef436e8113b",
   "metadata": {},
   "outputs": [
    {
     "name": "stdout",
     "output_type": "stream",
     "text": [
      "Empty DataFrame\n",
      "Columns: []\n",
      "Index: []\n"
     ]
    }
   ],
   "source": [
    "import pandas as pd \n",
    "df=pd.DataFrame()\n",
    "print(df)"
   ]
  },
  {
   "cell_type": "code",
   "execution_count": 25,
   "id": "57abbb46-3e3f-41e7-a6cb-b06f5fc8b529",
   "metadata": {},
   "outputs": [
    {
     "name": "stdout",
     "output_type": "stream",
     "text": [
      "\n",
      " Series to Data Frame:\n",
      "\n",
      "         Emp  Id\n",
      "0   Dharshan  80\n",
      "1     Sudeep  90\n",
      "2       Siva  28\n",
      "3       Yash  57\n",
      "4  Keerthana  49\n",
      "\n",
      " Extracting new columns:\n",
      "\n",
      "0     Dharshan\n",
      "1       Sudeep\n",
      "2         Siva\n",
      "3         Yash\n",
      "4    Keerthana\n",
      "Name: Emp, dtype: object\n",
      "\n",
      "Adding new columns:\n",
      "\n",
      "         Emp  Id  ID  age\n",
      "0   Dharshan  80  80   28\n",
      "1     Sudeep  90  90   32\n",
      "2       Siva  28  28   47\n",
      "3       Yash  57  56   52\n",
      "4  Keerthana  49  70   61\n",
      "\n",
      "Deleting new columns:\n",
      "\n",
      "         Emp  Id  ID\n",
      "0   Dharshan  80  80\n",
      "1     Sudeep  90  90\n",
      "2       Siva  28  28\n",
      "3       Yash  57  56\n",
      "4  Keerthana  49  70\n",
      "\n",
      "Excatacting the second Row:\n",
      "\n",
      "Emp    Sudeep\n",
      "Id         90\n",
      "ID         90\n",
      "Name: 1, dtype: object\n",
      "Slice rows:\n",
      "       Emp  Id  ID\n",
      "1  Sudeep  90  90\n",
      "2    Siva  28  28\n",
      "3    Yash  57  56\n",
      "\n",
      " Adding new row values:\n",
      ",pd.cocat([result,d2])\n",
      "\n",
      " Deletinig particular row:\n",
      "       Emp  Id  ID\n",
      "1  Sudeep  90  90\n",
      "2    Siva  28  28\n",
      "3    Yash  57  56\n"
     ]
    }
   ],
   "source": [
    "emp=pd.Series(['Dharshan','Sudeep','Siva','Yash','Keerthana'])\n",
    "id=pd.Series([80,90,28,57,49])\n",
    "frame={'Emp':emp,'Id':id}\n",
    "result=pd.DataFrame(frame)\n",
    "print(\"\\n Series to Data Frame:\\n\")\n",
    "print(result)\n",
    "print(\"\\n Extracting new columns:\\n\")\n",
    "print(result['Emp'])\n",
    "print(\"\\nAdding new columns:\\n\")\n",
    "result['ID']=pd.Series([80,90,28,56,70])\n",
    "result[\"age\"]=pd.Series([28,32,47,52,61])\n",
    "print(result)\n",
    "print(\"\\nDeleting new columns:\\n\")\n",
    "del result['age']\n",
    "print(result)\n",
    "print(\"\\nExcatacting the second Row:\\n\")\n",
    "print(result.loc[1])\n",
    "print(\"Slice rows:\\n\",result[1:4])\n",
    "d2=pd.DataFrame([['Vicky',100],['Rashid',110]],columns=['Emp','ID'])\n",
    "print(\"\\n Adding new row values:\\n,pd.cocat([result,d2])\")\n",
    "print(\"\\n Deletinig particular row:\\n\",result[1:4])\n",
    "\n",
    "\n",
    "\n",
    "      \n",
    "      "
   ]
  },
  {
   "cell_type": "code",
   "execution_count": null,
   "id": "e8214c38-95bb-48d8-abf6-df702c68beb2",
   "metadata": {},
   "outputs": [],
   "source": [
    "import pandas as pd\n",
    "import numpy as np\n",
    "print(\"Dataframe.applyfunction:\\n\")\n",
    "info=pd.Dataframe([])"
   ]
  }
 ],
 "metadata": {
  "kernelspec": {
   "display_name": "Python 3 (ipykernel)",
   "language": "python",
   "name": "python3"
  },
  "language_info": {
   "codemirror_mode": {
    "name": "ipython",
    "version": 3
   },
   "file_extension": ".py",
   "mimetype": "text/x-python",
   "name": "python",
   "nbconvert_exporter": "python",
   "pygments_lexer": "ipython3",
   "version": "3.11.3"
  }
 },
 "nbformat": 4,
 "nbformat_minor": 5
}
