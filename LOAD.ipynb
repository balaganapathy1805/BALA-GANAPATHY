{
 "cells": [
  {
   "cell_type": "code",
   "execution_count": null,
   "id": "d4dc94cc",
   "metadata": {},
   "outputs": [],
   "source": [
    "import pandas as pd\n",
    "d=pd.read_csv(#LOc D:\\\\emp.csv)       or  d=pd.read_excel(LOC \"D:\\\\emp.xlsl\")\n",
    "    #                                     d=pd.read_csc(\"emp\")\n",
    "print(d)\n",
    "d.head()\n",
    "d.tail()"
   ]
  }
 ],
 "metadata": {
  "kernelspec": {
   "display_name": "Python 3 (ipykernel)",
   "language": "python",
   "name": "python3"
  },
  "language_info": {
   "codemirror_mode": {
    "name": "ipython",
    "version": 3
   },
   "file_extension": ".py",
   "mimetype": "text/x-python",
   "name": "python",
   "nbconvert_exporter": "python",
   "pygments_lexer": "ipython3",
   "version": "3.11.3"
  }
 },
 "nbformat": 4,
 "nbformat_minor": 5
}
