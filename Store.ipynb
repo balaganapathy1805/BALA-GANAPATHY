{
 "cells": [
  {
   "cell_type": "code",
   "execution_count": 18,
   "id": "9e8aa441",
   "metadata": {},
   "outputs": [
    {
     "name": "stdout",
     "output_type": "stream",
     "text": [
      "       a  b  c\n",
      "one    1  2  3\n",
      "two    4  5  6\n",
      "three  7  8  9\n"
     ]
    }
   ],
   "source": [
    "import pandas as pd\n",
    "df=pd.DataFrame([[1,2,3],[4,5,6],[7,8,9]],index=['one','two','three'],columns=['a','b','c'])\n",
    "print(df)"
   ]
  },
  {
   "cell_type": "code",
   "execution_count": 19,
   "id": "4ac4858d",
   "metadata": {},
   "outputs": [],
   "source": [
    "df.to_excel(\"E:\\Bala.xlsx\")\n",
    "df.to_excel(\"E:\\Sai.xlsx\")"
   ]
  },
  {
   "cell_type": "code",
   "execution_count": 20,
   "id": "d2c9846c",
   "metadata": {},
   "outputs": [],
   "source": [
    "df=pd.DataFrame([[10,20,30],[40,50,60],[70,80,90]],index=['four','five','six'],columns=['x','y','z'])\n",
    "df.to_excel(\"E:\\Sai.xlsx\",sheet_name=\"marks\")"
   ]
  },
  {
   "cell_type": "code",
   "execution_count": 21,
   "id": "d06706f2",
   "metadata": {},
   "outputs": [],
   "source": [
    "x=pd.read_excel(\"E:\\Bala.xlsx\")\n",
    "y=pd.read_excel(\"E:\\Sai.xlsx\")\n",
    "#z=x.merge(y)\n",
    "z=pd.concat([x,y])\n",
    "z.to_excel(\"E:\\Murugan.xlsx\")"
   ]
  },
  {
   "cell_type": "code",
   "execution_count": 22,
   "id": "cdad4902",
   "metadata": {},
   "outputs": [
    {
     "name": "stdout",
     "output_type": "stream",
     "text": [
      "  Unnamed: 0    a    b    c     x     y     z\n",
      "0       four  NaN  NaN  NaN  10.0  20.0  30.0\n",
      "1       five  NaN  NaN  NaN  40.0  50.0  60.0\n",
      "2        six  NaN  NaN  NaN  70.0  80.0  90.0\n",
      "0        one  1.0  2.0  3.0   NaN   NaN   NaN\n",
      "1        two  4.0  5.0  6.0   NaN   NaN   NaN\n",
      "2      three  7.0  8.0  9.0   NaN   NaN   NaN\n"
     ]
    }
   ],
   "source": [
    "z=pd.concat([x,y])\n",
    "z.to_excel(\"E:\\Murugan.xlsx\")\n",
    "df=z.sort_values([\"x\"])\n",
    "print(df)\n"
   ]
  },
  {
   "cell_type": "code",
   "execution_count": 23,
   "id": "b910c7f4",
   "metadata": {},
   "outputs": [
    {
     "name": "stdout",
     "output_type": "stream",
     "text": [
      "  Unnamed: 0   x   y   z\n",
      "0       four  10  20  30\n",
      "1       five  40  50  60\n",
      "2        six  70  80  90\n",
      "['Unnamed: 0', 'x', 'y', 'z']\n",
      "3\n"
     ]
    }
   ],
   "source": [
    "df.to_excel(\"E:\\Murugan.xlsx\")\n",
    "df=pd.read_excel(\"E:\\Sai.xlsx\")\n",
    "print(df)\n",
    "print(list(df))\n",
    "print(format(len(df)))"
   ]
  },
  {
   "cell_type": "code",
   "execution_count": null,
   "id": "b996cf31",
   "metadata": {},
   "outputs": [],
   "source": []
  },
  {
   "cell_type": "code",
   "execution_count": null,
   "id": "f1ba6afb",
   "metadata": {},
   "outputs": [],
   "source": []
  }
 ],
 "metadata": {
  "kernelspec": {
   "display_name": "Python 3 (ipykernel)",
   "language": "python",
   "name": "python3"
  },
  "language_info": {
   "codemirror_mode": {
    "name": "ipython",
    "version": 3
   },
   "file_extension": ".py",
   "mimetype": "text/x-python",
   "name": "python",
   "nbconvert_exporter": "python",
   "pygments_lexer": "ipython3",
   "version": "3.11.3"
  }
 },
 "nbformat": 4,
 "nbformat_minor": 5
}
